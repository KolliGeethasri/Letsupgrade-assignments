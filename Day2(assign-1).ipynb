{
  "nbformat": 4,
  "nbformat_minor": 0,
  "metadata": {
    "colab": {
      "name": "Untitled5.ipynb",
      "provenance": []
    },
    "kernelspec": {
      "name": "python3",
      "display_name": "Python 3"
    }
  },
  "cells": [
    {
      "cell_type": "code",
      "metadata": {
        "colab": {
          "base_uri": "https://localhost:8080/"
        },
        "id": "TxEw977O0-Bc",
        "outputId": "74a9f71b-8e82-4b0c-fcc9-f8c273ed1371"
      },
      "source": [
        "x=5\r\n",
        "print((2*x+5)/(x**2+5*x+6))\r\n",
        "print((x**2+5*x+6)/(2*x+5))\r\n",
        "print((2*x-3)*(x-9))"
      ],
      "execution_count": 1,
      "outputs": [
        {
          "output_type": "stream",
          "text": [
            "0.26785714285714285\n",
            "3.7333333333333334\n",
            "-28\n"
          ],
          "name": "stdout"
        }
      ]
    },
    {
      "cell_type": "code",
      "metadata": {
        "colab": {
          "base_uri": "https://localhost:8080/"
        },
        "id": "_O1cM-ku1t-X",
        "outputId": "554ef814-0d43-4621-ebd2-6720d0f0b5a3"
      },
      "source": [
        "#user_id=INDIA\r\n",
        "#password=IND\r\n",
        "def user_login():\r\n",
        "  attempt=0\r\n",
        "  for i in range(0,5):\r\n",
        "    print(\"Re-enter your password\")\r\n",
        "    password=input(\"Enter password\")\r\n",
        "    attempt+=1\r\n",
        "    if password==\"INDIA\" and attempt<5:\r\n",
        "      print(\"Successful login\")\r\n",
        "    elif attempt>5 and password!=\"IND\":\r\n",
        "      print(\"your account has been blocked for 24 hrs\")\r\n",
        "user_id=input(\"Enter user_id\")\r\n",
        "while(user_id==\"INDIA\"):\r\n",
        "  password=input(\"Enter password\")\r\n",
        "  if password==\"IND\":\r\n",
        "    print(\"Successful login\")\r\n",
        "    break\r\n",
        "  else :\r\n",
        "      user_login()\r\n",
        "      break\r\n",
        "\r\n",
        "      \r\n",
        "    "
      ],
      "execution_count": 18,
      "outputs": [
        {
          "output_type": "stream",
          "text": [
            "Enter user_idINDIA\n",
            "Enter passwords\n",
            "Re-enter your password\n",
            "Enter passwords\n",
            "Re-enter your password\n",
            "Enter passwords\n",
            "Re-enter your password\n",
            "Enter passwords\n",
            "Re-enter your password\n",
            "Enter passwords\n",
            "Re-enter your password\n",
            "Enter passwords\n"
          ],
          "name": "stdout"
        }
      ]
    }
  ]
}